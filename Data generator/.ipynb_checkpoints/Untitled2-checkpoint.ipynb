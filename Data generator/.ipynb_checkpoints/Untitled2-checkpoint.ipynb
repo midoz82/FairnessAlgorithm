{
 "cells": [
  {
   "cell_type": "code",
   "execution_count": 12,
   "metadata": {},
   "outputs": [],
   "source": [
    "import json\n"
   ]
  },
  {
   "cell_type": "code",
   "execution_count": 20,
   "metadata": {},
   "outputs": [
    {
     "ename": "IndentationError",
     "evalue": "unexpected indent (<ipython-input-20-d54b2dd4889e>, line 15)",
     "output_type": "error",
     "traceback": [
      "\u001b[0;36m  File \u001b[0;32m\"<ipython-input-20-d54b2dd4889e>\"\u001b[0;36m, line \u001b[0;32m15\u001b[0m\n\u001b[0;31m    d.get[i]\u001b[0m\n\u001b[0m    ^\u001b[0m\n\u001b[0;31mIndentationError\u001b[0m\u001b[0;31m:\u001b[0m unexpected indent\n"
     ]
    }
   ],
   "source": [
    "d = {\n",
    "    'Gender': '',\n",
    "    'Race': '',\n",
    "    'hard-skills': [''],\n",
    "    'soft-skills' : ['']\n",
    "}\n",
    "\n",
    "i = 0\n",
    "x = 5\n",
    "for i in range(1,5):\n",
    "    d['Gender'] = 'male'\n",
    "    d['Race'] = 'arab'\n",
    "    i = i+1\n",
    "json.dumps(d)\n"
   ]
  },
  {
   "cell_type": "code",
   "execution_count": null,
   "metadata": {},
   "outputs": [],
   "source": []
  },
  {
   "cell_type": "code",
   "execution_count": null,
   "metadata": {
    "collapsed": true
   },
   "outputs": [],
   "source": []
  }
 ],
 "metadata": {
  "kernelspec": {
   "display_name": "Python 3",
   "language": "python",
   "name": "python3"
  },
  "language_info": {
   "codemirror_mode": {
    "name": "ipython",
    "version": 3
   },
   "file_extension": ".py",
   "mimetype": "text/x-python",
   "name": "python",
   "nbconvert_exporter": "python",
   "pygments_lexer": "ipython3",
   "version": "3.6.0"
  }
 },
 "nbformat": 4,
 "nbformat_minor": 2
}
